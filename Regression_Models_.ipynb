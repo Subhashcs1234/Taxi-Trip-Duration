{
 "cells": [
  {
   "cell_type": "code",
   "execution_count": 1,
   "metadata": {
    "id": "b06mDQCVzVS8"
   },
   "outputs": [],
   "source": [
    "# import the required libraries\n",
    "\n",
    "import pandas as pd\n",
    "import numpy as np\n",
    "import matplotlib.pyplot as plt\n",
    "import seaborn as sns\n",
    "\n",
    "import warnings\n",
    "warnings.filterwarnings('ignore')"
   ]
  },
  {
   "cell_type": "code",
   "execution_count": 2,
   "metadata": {
    "id": "tJ1wohZTzp5j"
   },
   "outputs": [],
   "source": [
    "# load the dataset\n",
    "\n",
    "data = pd.read_csv('nyc_taxi_trip_duration.csv')"
   ]
  },
  {
   "cell_type": "code",
   "execution_count": 3,
   "metadata": {
    "colab": {
     "base_uri": "https://localhost:8080/"
    },
    "id": "yr2GUdMozqIA",
    "outputId": "38f3d398-2fe2-453d-89af-ee2bd18de52e"
   },
   "outputs": [
    {
     "data": {
      "text/plain": [
       "(729322, 11)"
      ]
     },
     "execution_count": 3,
     "metadata": {},
     "output_type": "execute_result"
    }
   ],
   "source": [
    "data.shape"
   ]
  },
  {
   "cell_type": "code",
   "execution_count": 4,
   "metadata": {
    "id": "tV-QaoQ20DTq"
   },
   "outputs": [],
   "source": [
    "# remove rows with outliers in the 'trip_duration' column\n",
    "\n",
    "data = data[(data['trip_duration'] >= 30) & (data['trip_duration'] < 20*3600)]"
   ]
  },
  {
   "cell_type": "code",
   "execution_count": 5,
   "metadata": {
    "id": "vDz2Z5cw0lt5"
   },
   "outputs": [],
   "source": [
    "# convert the necessary columns into datetime objects\n",
    "\n",
    "data['pickup_datetime'] = pd.to_datetime(data.pickup_datetime)\n",
    "data['dropoff_datetime'] = pd.to_datetime(data.dropoff_datetime)"
   ]
  },
  {
   "cell_type": "code",
   "execution_count": 6,
   "metadata": {
    "id": "2tywXJqs0lwY"
   },
   "outputs": [],
   "source": [
    "# extract the necessary features from the columns of type 'datetime'\n",
    "\n",
    "data['pickup_hour'] = data['pickup_datetime'].dt.hour\n",
    "data['dropoff_hour'] = data['dropoff_datetime'].dt.hour\n",
    "\n",
    "data['pickup_dayofweek'] = data['pickup_datetime'].dt.dayofweek\n",
    "data['dropoff_dayofweek'] = data['dropoff_datetime'].dt.dayofweek"
   ]
  },
  {
   "cell_type": "code",
   "execution_count": 7,
   "metadata": {
    "id": "QD3PTmdA0lyv"
   },
   "outputs": [],
   "source": [
    "# drop the columns which are not needed\n",
    "\n",
    "drop_cols = ['id', 'pickup_datetime', 'dropoff_datetime']\n",
    "data.drop(columns = drop_cols, inplace = True)"
   ]
  },
  {
   "cell_type": "code",
   "execution_count": 8,
   "metadata": {
    "colab": {
     "base_uri": "https://localhost:8080/"
    },
    "id": "XlE7KBh80l3p",
    "outputId": "2f76f040-6e3e-4dc6-91da-c0087b194dd9"
   },
   "outputs": [
    {
     "name": "stdout",
     "output_type": "stream",
     "text": [
      "Number of outliers in trip_duration column: 36167\n"
     ]
    }
   ],
   "source": [
    "# dealing with the outliers\n",
    "\n",
    "Q1 = data.trip_duration.quantile(0.25)\n",
    "Q3 = data.trip_duration.quantile(0.75)\n",
    "IQR = Q3 - Q1\n",
    "\n",
    "lower_bound = Q1 - 1.5 * IQR\n",
    "upper_bound = Q3 + 1.5 * IQR\n",
    "\n",
    "# identify the outliers and replace with the mean\n",
    "outliers_1 = data[(data['trip_duration'] < lower_bound) | (data['trip_duration'] > upper_bound)]\n",
    "\n",
    "print(\"Number of outliers in trip_duration column:\", len(outliers_1))"
   ]
  },
  {
   "cell_type": "code",
   "execution_count": 9,
   "metadata": {
    "id": "GxnBWrac0l57"
   },
   "outputs": [],
   "source": [
    "outliers_2 = (data['trip_duration'] < lower_bound) | (data['trip_duration'] > upper_bound)\n",
    "data.loc[outliers_2, 'trip_duration'] = data['trip_duration'].mean()"
   ]
  },
  {
   "cell_type": "code",
   "execution_count": 10,
   "metadata": {
    "colab": {
     "base_uri": "https://localhost:8080/"
    },
    "id": "NexHU_VQ0l7x",
    "outputId": "33497127-730c-42f8-f869-0247fec6e6c2"
   },
   "outputs": [
    {
     "name": "stdout",
     "output_type": "stream",
     "text": [
      "Number of outliers in trip_duration column: 0\n"
     ]
    }
   ],
   "source": [
    "# outliers after replacing them with the mean is zero\n",
    "\n",
    "outliers_3 = data[(data['trip_duration'] < lower_bound) | (data['trip_duration'] > upper_bound)]\n",
    "print(\"Number of outliers in trip_duration column:\", len(outliers_3))"
   ]
  },
  {
   "cell_type": "code",
   "execution_count": 11,
   "metadata": {
    "colab": {
     "base_uri": "https://localhost:8080/",
     "height": 270
    },
    "id": "e8py6vrrE5Ln",
    "outputId": "63a57e3a-078f-463e-cd77-d6c5bfc5df8a"
   },
   "outputs": [
    {
     "data": {
      "text/html": [
       "<div>\n",
       "<style scoped>\n",
       "    .dataframe tbody tr th:only-of-type {\n",
       "        vertical-align: middle;\n",
       "    }\n",
       "\n",
       "    .dataframe tbody tr th {\n",
       "        vertical-align: top;\n",
       "    }\n",
       "\n",
       "    .dataframe thead th {\n",
       "        text-align: right;\n",
       "    }\n",
       "</style>\n",
       "<table border=\"1\" class=\"dataframe\">\n",
       "  <thead>\n",
       "    <tr style=\"text-align: right;\">\n",
       "      <th></th>\n",
       "      <th>vendor_id</th>\n",
       "      <th>passenger_count</th>\n",
       "      <th>pickup_longitude</th>\n",
       "      <th>pickup_latitude</th>\n",
       "      <th>dropoff_longitude</th>\n",
       "      <th>dropoff_latitude</th>\n",
       "      <th>store_and_fwd_flag</th>\n",
       "      <th>trip_duration</th>\n",
       "      <th>pickup_hour</th>\n",
       "      <th>dropoff_hour</th>\n",
       "      <th>pickup_dayofweek</th>\n",
       "      <th>dropoff_dayofweek</th>\n",
       "    </tr>\n",
       "  </thead>\n",
       "  <tbody>\n",
       "    <tr>\n",
       "      <th>0</th>\n",
       "      <td>2</td>\n",
       "      <td>1</td>\n",
       "      <td>-73.953918</td>\n",
       "      <td>40.778873</td>\n",
       "      <td>-73.963875</td>\n",
       "      <td>40.771164</td>\n",
       "      <td>N</td>\n",
       "      <td>400.0</td>\n",
       "      <td>16</td>\n",
       "      <td>16</td>\n",
       "      <td>0</td>\n",
       "      <td>0</td>\n",
       "    </tr>\n",
       "    <tr>\n",
       "      <th>1</th>\n",
       "      <td>1</td>\n",
       "      <td>2</td>\n",
       "      <td>-73.988312</td>\n",
       "      <td>40.731743</td>\n",
       "      <td>-73.994751</td>\n",
       "      <td>40.694931</td>\n",
       "      <td>N</td>\n",
       "      <td>1100.0</td>\n",
       "      <td>23</td>\n",
       "      <td>23</td>\n",
       "      <td>4</td>\n",
       "      <td>4</td>\n",
       "    </tr>\n",
       "    <tr>\n",
       "      <th>2</th>\n",
       "      <td>2</td>\n",
       "      <td>2</td>\n",
       "      <td>-73.997314</td>\n",
       "      <td>40.721458</td>\n",
       "      <td>-73.948029</td>\n",
       "      <td>40.774918</td>\n",
       "      <td>N</td>\n",
       "      <td>1635.0</td>\n",
       "      <td>17</td>\n",
       "      <td>18</td>\n",
       "      <td>6</td>\n",
       "      <td>6</td>\n",
       "    </tr>\n",
       "    <tr>\n",
       "      <th>3</th>\n",
       "      <td>2</td>\n",
       "      <td>6</td>\n",
       "      <td>-73.961670</td>\n",
       "      <td>40.759720</td>\n",
       "      <td>-73.956779</td>\n",
       "      <td>40.780628</td>\n",
       "      <td>N</td>\n",
       "      <td>1141.0</td>\n",
       "      <td>9</td>\n",
       "      <td>10</td>\n",
       "      <td>1</td>\n",
       "      <td>1</td>\n",
       "    </tr>\n",
       "    <tr>\n",
       "      <th>4</th>\n",
       "      <td>1</td>\n",
       "      <td>1</td>\n",
       "      <td>-74.017120</td>\n",
       "      <td>40.708469</td>\n",
       "      <td>-73.988182</td>\n",
       "      <td>40.740631</td>\n",
       "      <td>N</td>\n",
       "      <td>848.0</td>\n",
       "      <td>6</td>\n",
       "      <td>6</td>\n",
       "      <td>2</td>\n",
       "      <td>2</td>\n",
       "    </tr>\n",
       "  </tbody>\n",
       "</table>\n",
       "</div>"
      ],
      "text/plain": [
       "   vendor_id  passenger_count  pickup_longitude  pickup_latitude  \\\n",
       "0          2                1        -73.953918        40.778873   \n",
       "1          1                2        -73.988312        40.731743   \n",
       "2          2                2        -73.997314        40.721458   \n",
       "3          2                6        -73.961670        40.759720   \n",
       "4          1                1        -74.017120        40.708469   \n",
       "\n",
       "   dropoff_longitude  dropoff_latitude store_and_fwd_flag  trip_duration  \\\n",
       "0         -73.963875         40.771164                  N          400.0   \n",
       "1         -73.994751         40.694931                  N         1100.0   \n",
       "2         -73.948029         40.774918                  N         1635.0   \n",
       "3         -73.956779         40.780628                  N         1141.0   \n",
       "4         -73.988182         40.740631                  N          848.0   \n",
       "\n",
       "   pickup_hour  dropoff_hour  pickup_dayofweek  dropoff_dayofweek  \n",
       "0           16            16                 0                  0  \n",
       "1           23            23                 4                  4  \n",
       "2           17            18                 6                  6  \n",
       "3            9            10                 1                  1  \n",
       "4            6             6                 2                  2  "
      ]
     },
     "execution_count": 11,
     "metadata": {},
     "output_type": "execute_result"
    }
   ],
   "source": [
    "data.head()"
   ]
  },
  {
   "cell_type": "code",
   "execution_count": 14,
   "metadata": {
    "colab": {
     "base_uri": "https://localhost:8080/"
    },
    "id": "R2MM1fj4_pNx",
    "outputId": "12fc2f85-3d4b-4920-8f43-3737ccd7c78e",
    "scrolled": true
   },
   "outputs": [
    {
     "data": {
      "text/plain": [
       "1    514918\n",
       "2    104720\n",
       "5     38752\n",
       "3     29591\n",
       "6     24010\n",
       "4     14002\n",
       "0        14\n",
       "9         1\n",
       "Name: passenger_count, dtype: int64"
      ]
     },
     "execution_count": 14,
     "metadata": {},
     "output_type": "execute_result"
    }
   ],
   "source": [
    "data.passenger_count.value_counts()"
   ]
  },
  {
   "cell_type": "code",
   "execution_count": 15,
   "metadata": {
    "id": "xGJ-OALM_pWu"
   },
   "outputs": [],
   "source": [
    "data=data[(data.passenger_count!=0) | (data.passenger_count != 9)]"
   ]
  },
  {
   "cell_type": "code",
   "execution_count": 16,
   "metadata": {
    "colab": {
     "base_uri": "https://localhost:8080/",
     "height": 270
    },
    "id": "8FReSWyI9EWM",
    "outputId": "c8b7d80e-a089-49cf-f9d2-9e1920041ea0"
   },
   "outputs": [
    {
     "data": {
      "text/html": [
       "<div>\n",
       "<style scoped>\n",
       "    .dataframe tbody tr th:only-of-type {\n",
       "        vertical-align: middle;\n",
       "    }\n",
       "\n",
       "    .dataframe tbody tr th {\n",
       "        vertical-align: top;\n",
       "    }\n",
       "\n",
       "    .dataframe thead th {\n",
       "        text-align: right;\n",
       "    }\n",
       "</style>\n",
       "<table border=\"1\" class=\"dataframe\">\n",
       "  <thead>\n",
       "    <tr style=\"text-align: right;\">\n",
       "      <th></th>\n",
       "      <th>passenger_count</th>\n",
       "      <th>pickup_longitude</th>\n",
       "      <th>pickup_latitude</th>\n",
       "      <th>dropoff_longitude</th>\n",
       "      <th>dropoff_latitude</th>\n",
       "      <th>trip_duration</th>\n",
       "      <th>pickup_hour</th>\n",
       "      <th>dropoff_hour</th>\n",
       "      <th>vendor_id_1</th>\n",
       "      <th>vendor_id_2</th>\n",
       "      <th>...</th>\n",
       "      <th>pickup_dayofweek_6</th>\n",
       "      <th>dropoff_dayofweek_0</th>\n",
       "      <th>dropoff_dayofweek_1</th>\n",
       "      <th>dropoff_dayofweek_2</th>\n",
       "      <th>dropoff_dayofweek_3</th>\n",
       "      <th>dropoff_dayofweek_4</th>\n",
       "      <th>dropoff_dayofweek_5</th>\n",
       "      <th>dropoff_dayofweek_6</th>\n",
       "      <th>store_and_fwd_flag_N</th>\n",
       "      <th>store_and_fwd_flag_Y</th>\n",
       "    </tr>\n",
       "  </thead>\n",
       "  <tbody>\n",
       "    <tr>\n",
       "      <th>0</th>\n",
       "      <td>1</td>\n",
       "      <td>-73.953918</td>\n",
       "      <td>40.778873</td>\n",
       "      <td>-73.963875</td>\n",
       "      <td>40.771164</td>\n",
       "      <td>400.0</td>\n",
       "      <td>16</td>\n",
       "      <td>16</td>\n",
       "      <td>0</td>\n",
       "      <td>1</td>\n",
       "      <td>...</td>\n",
       "      <td>0</td>\n",
       "      <td>1</td>\n",
       "      <td>0</td>\n",
       "      <td>0</td>\n",
       "      <td>0</td>\n",
       "      <td>0</td>\n",
       "      <td>0</td>\n",
       "      <td>0</td>\n",
       "      <td>1</td>\n",
       "      <td>0</td>\n",
       "    </tr>\n",
       "    <tr>\n",
       "      <th>1</th>\n",
       "      <td>2</td>\n",
       "      <td>-73.988312</td>\n",
       "      <td>40.731743</td>\n",
       "      <td>-73.994751</td>\n",
       "      <td>40.694931</td>\n",
       "      <td>1100.0</td>\n",
       "      <td>23</td>\n",
       "      <td>23</td>\n",
       "      <td>1</td>\n",
       "      <td>0</td>\n",
       "      <td>...</td>\n",
       "      <td>0</td>\n",
       "      <td>0</td>\n",
       "      <td>0</td>\n",
       "      <td>0</td>\n",
       "      <td>0</td>\n",
       "      <td>1</td>\n",
       "      <td>0</td>\n",
       "      <td>0</td>\n",
       "      <td>1</td>\n",
       "      <td>0</td>\n",
       "    </tr>\n",
       "    <tr>\n",
       "      <th>2</th>\n",
       "      <td>2</td>\n",
       "      <td>-73.997314</td>\n",
       "      <td>40.721458</td>\n",
       "      <td>-73.948029</td>\n",
       "      <td>40.774918</td>\n",
       "      <td>1635.0</td>\n",
       "      <td>17</td>\n",
       "      <td>18</td>\n",
       "      <td>0</td>\n",
       "      <td>1</td>\n",
       "      <td>...</td>\n",
       "      <td>1</td>\n",
       "      <td>0</td>\n",
       "      <td>0</td>\n",
       "      <td>0</td>\n",
       "      <td>0</td>\n",
       "      <td>0</td>\n",
       "      <td>0</td>\n",
       "      <td>1</td>\n",
       "      <td>1</td>\n",
       "      <td>0</td>\n",
       "    </tr>\n",
       "    <tr>\n",
       "      <th>3</th>\n",
       "      <td>6</td>\n",
       "      <td>-73.961670</td>\n",
       "      <td>40.759720</td>\n",
       "      <td>-73.956779</td>\n",
       "      <td>40.780628</td>\n",
       "      <td>1141.0</td>\n",
       "      <td>9</td>\n",
       "      <td>10</td>\n",
       "      <td>0</td>\n",
       "      <td>1</td>\n",
       "      <td>...</td>\n",
       "      <td>0</td>\n",
       "      <td>0</td>\n",
       "      <td>1</td>\n",
       "      <td>0</td>\n",
       "      <td>0</td>\n",
       "      <td>0</td>\n",
       "      <td>0</td>\n",
       "      <td>0</td>\n",
       "      <td>1</td>\n",
       "      <td>0</td>\n",
       "    </tr>\n",
       "    <tr>\n",
       "      <th>4</th>\n",
       "      <td>1</td>\n",
       "      <td>-74.017120</td>\n",
       "      <td>40.708469</td>\n",
       "      <td>-73.988182</td>\n",
       "      <td>40.740631</td>\n",
       "      <td>848.0</td>\n",
       "      <td>6</td>\n",
       "      <td>6</td>\n",
       "      <td>1</td>\n",
       "      <td>0</td>\n",
       "      <td>...</td>\n",
       "      <td>0</td>\n",
       "      <td>0</td>\n",
       "      <td>0</td>\n",
       "      <td>1</td>\n",
       "      <td>0</td>\n",
       "      <td>0</td>\n",
       "      <td>0</td>\n",
       "      <td>0</td>\n",
       "      <td>1</td>\n",
       "      <td>0</td>\n",
       "    </tr>\n",
       "  </tbody>\n",
       "</table>\n",
       "<p>5 rows × 26 columns</p>\n",
       "</div>"
      ],
      "text/plain": [
       "   passenger_count  pickup_longitude  pickup_latitude  dropoff_longitude  \\\n",
       "0                1        -73.953918        40.778873         -73.963875   \n",
       "1                2        -73.988312        40.731743         -73.994751   \n",
       "2                2        -73.997314        40.721458         -73.948029   \n",
       "3                6        -73.961670        40.759720         -73.956779   \n",
       "4                1        -74.017120        40.708469         -73.988182   \n",
       "\n",
       "   dropoff_latitude  trip_duration  pickup_hour  dropoff_hour  vendor_id_1  \\\n",
       "0         40.771164          400.0           16            16            0   \n",
       "1         40.694931         1100.0           23            23            1   \n",
       "2         40.774918         1635.0           17            18            0   \n",
       "3         40.780628         1141.0            9            10            0   \n",
       "4         40.740631          848.0            6             6            1   \n",
       "\n",
       "   vendor_id_2  ...  pickup_dayofweek_6  dropoff_dayofweek_0  \\\n",
       "0            1  ...                   0                    1   \n",
       "1            0  ...                   0                    0   \n",
       "2            1  ...                   1                    0   \n",
       "3            1  ...                   0                    0   \n",
       "4            0  ...                   0                    0   \n",
       "\n",
       "   dropoff_dayofweek_1  dropoff_dayofweek_2  dropoff_dayofweek_3  \\\n",
       "0                    0                    0                    0   \n",
       "1                    0                    0                    0   \n",
       "2                    0                    0                    0   \n",
       "3                    1                    0                    0   \n",
       "4                    0                    1                    0   \n",
       "\n",
       "   dropoff_dayofweek_4  dropoff_dayofweek_5  dropoff_dayofweek_6  \\\n",
       "0                    0                    0                    0   \n",
       "1                    1                    0                    0   \n",
       "2                    0                    0                    1   \n",
       "3                    0                    0                    0   \n",
       "4                    0                    0                    0   \n",
       "\n",
       "   store_and_fwd_flag_N  store_and_fwd_flag_Y  \n",
       "0                     1                     0  \n",
       "1                     1                     0  \n",
       "2                     1                     0  \n",
       "3                     1                     0  \n",
       "4                     1                     0  \n",
       "\n",
       "[5 rows x 26 columns]"
      ]
     },
     "metadata": {},
     "output_type": "display_data"
    }
   ],
   "source": [
    "# encode the categorical variables\n",
    "\n",
    "data = pd.get_dummies(data, columns=['vendor_id', 'pickup_dayofweek', 'dropoff_dayofweek','store_and_fwd_flag' ])\n",
    "\n",
    "# print the first five rows of the encoded dataframe\n",
    "from IPython.display import display\n",
    "display(data.head())"
   ]
  },
  {
   "cell_type": "code",
   "execution_count": 17,
   "metadata": {
    "id": "ljOvnilk9Ect"
   },
   "outputs": [],
   "source": [
    "from sklearn.model_selection import train_test_split\n",
    "\n",
    "X = data.drop('trip_duration', axis=1) # Feature matrix\n",
    "y = data['trip_duration'] # Target variable\n",
    "\n",
    "# Splitting the data into 80% training set and 20% testing set\n",
    "X_train, X_test, y_train, y_test = train_test_split(X, y, test_size=0.2, random_state=42)"
   ]
  },
  {
   "cell_type": "markdown",
   "metadata": {},
   "source": [
    "# Linear Regression"
   ]
  },
  {
   "cell_type": "code",
   "execution_count": 18,
   "metadata": {
    "id": "-DC8aeF-9Ehh"
   },
   "outputs": [],
   "source": [
    "from sklearn.linear_model import LinearRegression, Ridge, Lasso \n",
    "from sklearn.metrics import mean_absolute_error as MAE, mean_squared_error as MSE, r2_score\n",
    "\n",
    "lr = LinearRegression()"
   ]
  },
  {
   "cell_type": "code",
   "execution_count": 19,
   "metadata": {
    "colab": {
     "base_uri": "https://localhost:8080/"
    },
    "id": "Rrnu_m0n9E0X",
    "outputId": "9af0f921-071e-4db8-f108-68ced9ef9ea9"
   },
   "outputs": [
    {
     "data": {
      "text/plain": [
       "LinearRegression()"
      ]
     },
     "execution_count": 19,
     "metadata": {},
     "output_type": "execute_result"
    }
   ],
   "source": [
    "from sklearn.preprocessing import StandardScaler\n",
    "\n",
    "# Preprocess data using StandardScaler\n",
    "scaler = StandardScaler()\n",
    "X_train_scaled = scaler.fit_transform(X_train)\n",
    "X_test_scaled = scaler.transform(X_test)\n",
    "\n",
    "# Fit linear regression model\n",
    "lr.fit(X_train_scaled, y_train)"
   ]
  },
  {
   "cell_type": "code",
   "execution_count": 63,
   "metadata": {
    "colab": {
     "base_uri": "https://localhost:8080/"
    },
    "id": "MALQC0lP9V5q",
    "outputId": "e634240f-a38f-4102-8396-aa052a902864"
   },
   "outputs": [
    {
     "name": "stdout",
     "output_type": "stream",
     "text": [
      "Mean Square Error:  182229.64336810913\n",
      "Root Mean Square Error 426.8836414857205\n",
      "Mean Absolute Error:  339.33983382307304\n",
      "r2_score:  0.0356092999272416\n"
     ]
    }
   ],
   "source": [
    "y_pred = lr.predict(X_test_scaled)\n",
    "\n",
    "mse =  MSE(y_test, y_pred)\n",
    "print('Mean Square Error: ', mse)\n",
    "print('Root Mean Square Error', np.sqrt(mse))\n",
    "print('Mean Absolute Error: ', MAE(y_test, y_pred))\n",
    "print('r2_score: ', r2_score(y_test, y_pred))\n"
   ]
  },
  {
   "cell_type": "code",
   "execution_count": 21,
   "metadata": {
    "colab": {
     "base_uri": "https://localhost:8080/",
     "height": 753
    },
    "id": "yn6iJ6eM9WEN",
    "outputId": "8e09438d-a0e2-4e3c-ac0b-c8b231aba510"
   },
   "outputs": [
    {
     "name": "stdout",
     "output_type": "stream",
     "text": [
      "                 feature   coefficient\n",
      "0        passenger_count  4.024561e+00\n",
      "1       pickup_longitude  1.421519e+01\n",
      "2        pickup_latitude -2.926453e+01\n",
      "3      dropoff_longitude  2.737455e+01\n",
      "4       dropoff_latitude -3.830710e+01\n",
      "5            pickup_hour  8.018678e+00\n",
      "6           dropoff_hour  3.523653e+00\n",
      "7            vendor_id_1  1.097473e+13\n",
      "8            vendor_id_2  1.097473e+13\n",
      "9     pickup_dayofweek_0  1.007001e+14\n",
      "10    pickup_dayofweek_1  1.039149e+14\n",
      "11    pickup_dayofweek_2  1.055525e+14\n",
      "12    pickup_dayofweek_3  1.072771e+14\n",
      "13    pickup_dayofweek_4  1.082950e+14\n",
      "14    pickup_dayofweek_5  1.075954e+14\n",
      "15    pickup_dayofweek_6  1.023795e+14\n",
      "16   dropoff_dayofweek_0 -2.887755e+13\n",
      "17   dropoff_dayofweek_1 -2.979606e+13\n",
      "18   dropoff_dayofweek_2 -3.026332e+13\n",
      "19   dropoff_dayofweek_3 -3.072788e+13\n",
      "20   dropoff_dayofweek_4 -3.103548e+13\n",
      "21   dropoff_dayofweek_5 -3.087322e+13\n",
      "22   dropoff_dayofweek_6 -2.947797e+13\n",
      "23  store_and_fwd_flag_N  1.210790e+15\n",
      "24  store_and_fwd_flag_Y  1.210790e+15\n"
     ]
    },
    {
     "data": {
      "text/plain": [
       "Text(0, 0.5, 'coefficients')"
      ]
     },
     "execution_count": 21,
     "metadata": {},
     "output_type": "execute_result"
    },
    {
     "data": {
      "image/png": "[encoded data removed]",
      "text/plain": [
       "<Figure size 640x480 with 1 Axes>"
      ]
     },
     "metadata": {},
     "output_type": "display_data"
    }
   ],
   "source": [
    "# coefficents of Linear Regression Model\n",
    "\n",
    "coef_df = pd.DataFrame({'feature': X.columns, 'coefficient': lr.coef_})\n",
    "print(coef_df)\n",
    "plt.bar(X.columns, lr.coef_)\n",
    "plt.xlabel('features')\n",
    "plt.xticks(rotation=90)\n",
    "plt.ylabel('coefficients')"
   ]
  },
  {
   "cell_type": "markdown",
   "metadata": {},
   "source": [
    "# Lasso Regression"
   ]
  },
  {
   "cell_type": "code",
   "execution_count": 22,
   "metadata": {
    "colab": {
     "base_uri": "https://localhost:8080/",
     "height": 284
    },
    "id": "zLl86utE9WM4",
    "outputId": "3b7bd8f1-5784-4ed8-9ca0-61727aa69525"
   },
   "outputs": [
    {
     "data": {
      "image/png": "[encoded data removed]",
      "text/plain": [
       "<Figure size 640x480 with 1 Axes>"
      ]
     },
     "metadata": {},
     "output_type": "display_data"
    }
   ],
   "source": [
    "alphas = [0.001, 0.01, 0.1, 1, 10, 100]\n",
    "\n",
    "# fit a Lasso regression model for each alpha and calculate the MSE\n",
    "mse_values = []\n",
    "for alpha in alphas:\n",
    "    model = Lasso(alpha=alpha)\n",
    "    model.fit(X_train_scaled, y_train)\n",
    "    y_pred = model.predict(X_test_scaled)\n",
    "    mse = MSE(y_test, y_pred)\n",
    "    mse_values.append(mse)\n",
    "\n",
    "# plot the MSE values for each alpha\n",
    "plt.plot(alphas, mse_values)\n",
    "plt.xlabel('alpha')\n",
    "plt.ylabel('MSE')\n",
    "plt.xscale('log')\n",
    "plt.show()\n"
   ]
  },
  {
   "cell_type": "code",
   "execution_count": 64,
   "metadata": {
    "colab": {
     "base_uri": "https://localhost:8080/"
    },
    "id": "q9GiYV8Y9E21",
    "outputId": "fb5f398b-aeee-4d22-f5ec-dae2b39a99a7"
   },
   "outputs": [
    {
     "name": "stdout",
     "output_type": "stream",
     "text": [
      "Mean Square Error:  188880.68719551168\n",
      "Root Mean Square Error 434.60405796024463\n",
      "Mean Absolute Error:  347.2070887022118\n",
      "r2_score:  0.0004108289519872965\n"
     ]
    }
   ],
   "source": [
    "# by looking at the above plot, choose alpha = 0.1\n",
    "\n",
    "lasso = Lasso(alpha=0.1)\n",
    "\n",
    "# fit the lasso regression model\n",
    "lasso.fit(X_train_scaled, y_train)\n",
    "y_pred = lasso.predict(X_test_scaled)\n",
    "\n",
    "# measure the performance of the model\n",
    "mse =  MSE(y_test, y_pred)\n",
    "print('Mean Square Error: ', mse)\n",
    "print('Root Mean Square Error', np.sqrt(mse))\n",
    "print('Mean Absolute Error: ', MAE(y_test, y_pred) )\n",
    "print('r2_score: ', r2_score(y_test, y_pred))"
   ]
  },
  {
   "cell_type": "code",
   "execution_count": 24,
   "metadata": {
    "colab": {
     "base_uri": "https://localhost:8080/",
     "height": 742
    },
    "id": "AVrfc_6p9E6y",
    "outputId": "3107aa5c-9a89-477f-9569-0d3e9f114835"
   },
   "outputs": [
    {
     "name": "stdout",
     "output_type": "stream",
     "text": [
      "                 feature   coefficient\n",
      "0        passenger_count  4.135731e+00\n",
      "1       pickup_longitude  1.424803e+01\n",
      "2        pickup_latitude -2.901672e+01\n",
      "3      dropoff_longitude  2.740027e+01\n",
      "4       dropoff_latitude -3.829260e+01\n",
      "5            pickup_hour  7.859252e+00\n",
      "6           dropoff_hour  3.414979e+00\n",
      "7            vendor_id_1 -1.457574e+00\n",
      "8            vendor_id_2  2.200115e-15\n",
      "9     pickup_dayofweek_0 -2.335098e+01\n",
      "10    pickup_dayofweek_1  1.210089e+01\n",
      "11    pickup_dayofweek_2  3.719451e+01\n",
      "12    pickup_dayofweek_3  5.156810e+01\n",
      "13    pickup_dayofweek_4  3.415642e+01\n",
      "14    pickup_dayofweek_5 -1.353958e+01\n",
      "15    pickup_dayofweek_6 -6.328545e+01\n",
      "16   dropoff_dayofweek_0  1.719439e+01\n",
      "17   dropoff_dayofweek_1 -5.139200e+00\n",
      "18   dropoff_dayofweek_2 -2.526784e+01\n",
      "19   dropoff_dayofweek_3 -3.859068e+01\n",
      "20   dropoff_dayofweek_4 -2.594934e+01\n",
      "21   dropoff_dayofweek_5  6.939714e+00\n",
      "22   dropoff_dayofweek_6  4.860343e+01\n",
      "23  store_and_fwd_flag_N -5.421906e+00\n",
      "24  store_and_fwd_flag_Y  2.794381e-14\n"
     ]
    },
    {
     "data": {
      "text/plain": [
       "Text(0, 0.5, 'coefficients')"
      ]
     },
     "execution_count": 24,
     "metadata": {},
     "output_type": "execute_result"
    },
    {
     "data": {
      "image/png": "[encoded data removed]",
      "text/plain": [
       "<Figure size 640x480 with 1 Axes>"
      ]
     },
     "metadata": {},
     "output_type": "display_data"
    }
   ],
   "source": [
    "# evaluate the coefficients of the Lasso Regression Model\n",
    "\n",
    "coef_df = pd.DataFrame({'feature': X.columns, 'coefficient': lasso.coef_})\n",
    "print(coef_df)\n",
    "plt.bar(X.columns, lasso.coef_)\n",
    "plt.xlabel('features')\n",
    "plt.xticks(rotation=90)\n",
    "plt.ylabel('coefficients')"
   ]
  },
  {
   "cell_type": "markdown",
   "metadata": {
    "id": "D31kqN00-crk"
   },
   "source": [
    "# Ridge regression"
   ]
  },
  {
   "cell_type": "code",
   "execution_count": 25,
   "metadata": {
    "colab": {
     "base_uri": "https://localhost:8080/",
     "height": 283
    },
    "id": "DDFKL0-L-cuX",
    "outputId": "2098d9ba-b529-4de0-9c9c-b10d944315ed"
   },
   "outputs": [
    {
     "data": {
      "image/png": "[encoded data removed]",
      "text/plain": [
       "<Figure size 640x480 with 1 Axes>"
      ]
     },
     "metadata": {},
     "output_type": "display_data"
    }
   ],
   "source": [
    "alphas = [0.1, 1, 10, 100, 1000, 10000]\n",
    "\n",
    "# fit a Ridge regression model for each alpha and calculate the MSE\n",
    "mse_values = []\n",
    "for alpha in alphas:\n",
    "    model = Ridge(alpha=alpha)\n",
    "    model.fit(X_train_scaled, y_train)\n",
    "    y_pred = model.predict(X_test_scaled)\n",
    "    mse = MSE(y_test, y_pred)\n",
    "    mse_values.append(mse)\n",
    "\n",
    "# plot the MSE values for each alpha\n",
    "plt.plot(alphas, mse_values)\n",
    "plt.xlabel('alpha')\n",
    "plt.ylabel('MSE')\n",
    "plt.xscale('log')\n",
    "plt.show()"
   ]
  },
  {
   "cell_type": "code",
   "execution_count": 65,
   "metadata": {
    "colab": {
     "base_uri": "https://localhost:8080/"
    },
    "id": "hrDSJGxm-cxH",
    "outputId": "1fc875a4-1286-4014-b16e-1131105e5669"
   },
   "outputs": [
    {
     "name": "stdout",
     "output_type": "stream",
     "text": [
      "Mean Square Error:  188878.9011912285\n",
      "Root Mean Square Error 434.60200320664484\n",
      "Mean Absolute Error:  347.19034804557185\n",
      "r2_score:  0.0004202807946686038\n"
     ]
    }
   ],
   "source": [
    "ridge = Ridge(alpha=10)\n",
    "\n",
    "# fit the ridge regression model\n",
    "ridge.fit(X_train_scaled, y_train)\n",
    "y_pred = ridge.predict(X_test_scaled)\n",
    "\n",
    "# measure the accuracy of the model\n",
    "mse =  MSE(y_test, y_pred)\n",
    "print('Mean Square Error: ', mse)\n",
    "print('Root Mean Square Error', np.sqrt(mse))\n",
    "print('Mean Absolute Error: ', MAE(y_test, y_pred) )\n",
    "print('r2_score: ', r2_score(y_test, y_pred))"
   ]
  },
  {
   "cell_type": "code",
   "execution_count": 27,
   "metadata": {
    "colab": {
     "base_uri": "https://localhost:8080/",
     "height": 742
    },
    "id": "IGspS2rQ-czd",
    "outputId": "ef08e962-271e-4cd6-d730-2b1fba8d1819"
   },
   "outputs": [
    {
     "name": "stdout",
     "output_type": "stream",
     "text": [
      "                 feature  coefficient\n",
      "0        passenger_count     4.137453\n",
      "1       pickup_longitude    14.274495\n",
      "2        pickup_latitude   -28.988281\n",
      "3      dropoff_longitude    27.329475\n",
      "4       dropoff_latitude   -38.244698\n",
      "5            pickup_hour     9.528612\n",
      "6           dropoff_hour     1.733098\n",
      "7            vendor_id_1    -0.732965\n",
      "8            vendor_id_2     0.732965\n",
      "9     pickup_dayofweek_0   -21.254167\n",
      "10    pickup_dayofweek_1     5.828792\n",
      "11    pickup_dayofweek_2    23.158337\n",
      "12    pickup_dayofweek_3    35.725989\n",
      "13    pickup_dayofweek_4    24.202345\n",
      "14    pickup_dayofweek_5   -14.639519\n",
      "15    pickup_dayofweek_6   -56.537242\n",
      "16   dropoff_dayofweek_0    13.165473\n",
      "17   dropoff_dayofweek_1    -0.885785\n",
      "18   dropoff_dayofweek_2   -13.268628\n",
      "19   dropoff_dayofweek_3   -24.773922\n",
      "20   dropoff_dayofweek_4   -17.962908\n",
      "21   dropoff_dayofweek_5     6.121694\n",
      "22   dropoff_dayofweek_6    39.945090\n",
      "23  store_and_fwd_flag_N    -2.715085\n",
      "24  store_and_fwd_flag_Y     2.715085\n"
     ]
    },
    {
     "data": {
      "text/plain": [
       "Text(0, 0.5, 'coefficients')"
      ]
     },
     "execution_count": 27,
     "metadata": {},
     "output_type": "execute_result"
    },
    {
     "data": {
      "image/png": "[encoded data removed]",
      "text/plain": [
       "<Figure size 640x480 with 1 Axes>"
      ]
     },
     "metadata": {},
     "output_type": "display_data"
    }
   ],
   "source": [
    "# evaluate the coefficients of the Ridge Regression Model\n",
    "\n",
    "coef_df = pd.DataFrame({'feature': X.columns, 'coefficient': ridge.coef_})\n",
    "print(coef_df)\n",
    "plt.bar(X.columns, ridge.coef_)\n",
    "plt.xlabel('features')\n",
    "plt.xticks(rotation=90)\n",
    "plt.ylabel('coefficients')"
   ]
  },
  {
   "cell_type": "markdown",
   "metadata": {
    "id": "j9NeyqvgHpGf"
   },
   "source": [
    " # Decision Tree"
   ]
  },
  {
   "cell_type": "code",
   "execution_count": 28,
   "metadata": {
    "id": "3i7c80FD-c4b"
   },
   "outputs": [],
   "source": [
    "from sklearn.tree import DecisionTreeRegressor\n",
    "\n",
    "# create a instance of the decision tree object by setting the parameters to the required value\n",
    "dtr = DecisionTreeRegressor(max_depth=4, min_samples_split=10, random_state=42)\n",
    "dtr.fit(X_train, y_train)\n",
    "\n",
    "# evaluate model on testing data\n",
    "y_pred = dtr.predict(X_test_scaled)"
   ]
  },
  {
   "cell_type": "code",
   "execution_count": 66,
   "metadata": {
    "colab": {
     "base_uri": "https://localhost:8080/"
    },
    "id": "Fid8amdI-c8G",
    "outputId": "b198d837-fc96-4e20-98d1-e146fa68c09b"
   },
   "outputs": [
    {
     "name": "stdout",
     "output_type": "stream",
     "text": [
      "Mean Square Error:  188878.9011912285\n",
      "Root Mean Square Error 434.60200320664484\n",
      "Mean Absolute Error:  347.19034804557185\n",
      "r2_score:  0.0004202807946686038\n"
     ]
    }
   ],
   "source": [
    "# evaluate the performance of the model\n",
    "\n",
    "mse =  MSE(y_test, y_pred)\n",
    "print('Mean Square Error: ', mse)\n",
    "print('Root Mean Square Error', np.sqrt(mse))\n",
    "print('Mean Absolute Error: ', MAE(y_test, y_pred) )\n",
    "print('r2_score: ', r2_score(y_test, y_pred))"
   ]
  },
  {
   "cell_type": "code",
   "execution_count": 30,
   "metadata": {
    "colab": {
     "base_uri": "https://localhost:8080/"
    },
    "id": "PLbnudthH_99",
    "outputId": "f631a809-4e21-4dbf-f8c5-3144c4e49c64"
   },
   "outputs": [
    {
     "name": "stdout",
     "output_type": "stream",
     "text": [
      "passenger_count : 0.0\n",
      "pickup_longitude : 0.3058736306368555\n",
      "pickup_latitude : 0.2568527278315162\n",
      "dropoff_longitude : 0.2567229430150598\n",
      "dropoff_latitude : 0.16528103297512092\n",
      "pickup_hour : 0.009093194580235282\n",
      "dropoff_hour : 0.0061764709612121705\n",
      "vendor_id_1 : 0.0\n",
      "vendor_id_2 : 0.0\n",
      "pickup_dayofweek_0 : 0.0\n",
      "pickup_dayofweek_1 : 0.0\n",
      "pickup_dayofweek_2 : 0.0\n",
      "pickup_dayofweek_3 : 0.0\n",
      "pickup_dayofweek_4 : 0.0\n",
      "pickup_dayofweek_5 : 0.0\n",
      "pickup_dayofweek_6 : 0.0\n",
      "dropoff_dayofweek_0 : 0.0\n",
      "dropoff_dayofweek_1 : 0.0\n",
      "dropoff_dayofweek_2 : 0.0\n",
      "dropoff_dayofweek_3 : 0.0\n",
      "dropoff_dayofweek_4 : 0.0\n",
      "dropoff_dayofweek_5 : 0.0\n",
      "dropoff_dayofweek_6 : 0.0\n",
      "store_and_fwd_flag_N : 0.0\n",
      "store_and_fwd_flag_Y : 0.0\n"
     ]
    }
   ],
   "source": [
    "# interpreting the variable importance\n",
    "\n",
    "importance = dtr.feature_importances_\n",
    "feature_names = X.columns\n",
    "for feature_name, importance_score in zip(feature_names, importance):\n",
    "    print(feature_name, ':', importance_score)"
   ]
  },
  {
   "cell_type": "markdown",
   "metadata": {
    "id": "LYEHkuWTIHrF"
   },
   "source": [
    "# Train Scores and Plot"
   ]
  },
  {
   "cell_type": "code",
   "execution_count": 31,
   "metadata": {
    "colab": {
     "base_uri": "https://localhost:8080/"
    },
    "id": "xAnDeffZIAFy",
    "outputId": "7a8230a0-65e4-45d2-ecdc-739bd6f27328"
   },
   "outputs": [
    {
     "name": "stdout",
     "output_type": "stream",
     "text": [
      "Training score for Linear Regression: 0.02766356397524916\n"
     ]
    }
   ],
   "source": [
    "# evaluating the training score of linear Regression\n",
    "\n",
    "lr.fit(X_train_scaled, y_train)\n",
    "train_score_lr = lr.score(X_train_scaled, y_train)\n",
    "print(\"Training score for Linear Regression:\", train_score_lr)"
   ]
  },
  {
   "cell_type": "code",
   "execution_count": 32,
   "metadata": {
    "colab": {
     "base_uri": "https://localhost:8080/"
    },
    "id": "F2vCTJ8oIAI4",
    "outputId": "2dfda406-602c-4edf-e198-94bf2427c819"
   },
   "outputs": [
    {
     "name": "stdout",
     "output_type": "stream",
     "text": [
      "Training score for Decision Tree Regression: 0.19055756204405172\n"
     ]
    }
   ],
   "source": [
    "#evaluating the training score of Decision Tree Regression\n",
    "\n",
    "dtr.fit(X_train_scaled, y_train)\n",
    "train_score_dtr = dtr.score(X_train_scaled, y_train)\n",
    "print(\"Training score for Decision Tree Regression:\", train_score_dtr)"
   ]
  },
  {
   "cell_type": "code",
   "execution_count": 49,
   "metadata": {
    "colab": {
     "base_uri": "https://localhost:8080/"
    },
    "id": "q6xLtEYYINZY",
    "outputId": "83ef0149-65af-477b-bba2-e3ac40dfa313"
   },
   "outputs": [
    {
     "data": {
      "text/plain": [
       "KNeighborsRegressor(n_neighbors=7)"
      ]
     },
     "execution_count": 49,
     "metadata": {},
     "output_type": "execute_result"
    }
   ],
   "source": [
    "# evaluating the training score of K Nearest Neighbours Regression for a subset of the data to get the results in real time\n",
    "# we have found out that the best value of k is 7 in the knn model\n",
    "\n",
    "from sklearn.neighbors import KNeighborsRegressor\n",
    "\n",
    "# Fit the model on the subset of training data\n",
    "knn = KNeighborsRegressor(n_neighbors=7)\n",
    "knn.fit(X_train[:185000], y_train[:185000])"
   ]
  },
  {
   "cell_type": "code",
   "execution_count": 50,
   "metadata": {
    "colab": {
     "base_uri": "https://localhost:8080/"
    },
    "id": "m3gGIMNMINiJ",
    "outputId": "ed36bc57-74d4-4fb3-92da-153153540759"
   },
   "outputs": [
    {
     "name": "stdout",
     "output_type": "stream",
     "text": [
      "Training score for K Nearest Neighbours: 0.5465844209185782\n"
     ]
    }
   ],
   "source": [
    "# Calculate the training score\n",
    "\n",
    "train_score_knn = knn.score(X_train[:185000], y_train[:185000])\n",
    "print(\"Training score for K Nearest Neighbours:\", train_score_knn)"
   ]
  },
  {
   "cell_type": "code",
   "execution_count": 51,
   "metadata": {
    "id": "S69T47AqIALI"
   },
   "outputs": [
    {
     "data": {
      "image/png": "[encoded data removed]",
      "text/plain": [
       "<Figure size 640x480 with 1 Axes>"
      ]
     },
     "metadata": {},
     "output_type": "display_data"
    }
   ],
   "source": [
    "# we get a low value for KNN as we have used only sample of the dataset\n",
    "\n",
    "models = ['linear_regression', 'decision_tree', 'K neighbours']\n",
    "training_scores = [train_score_lr, train_score_dtr, train_score_knn]\n",
    " \n",
    "plt.bar(models, training_scores)\n",
    "plt.title('Training Scores of the Models')\n",
    "plt.xlabel('Models')\n",
    "plt.ylabel('Training Score')\n",
    "plt.show()"
   ]
  },
  {
   "cell_type": "code",
   "execution_count": 52,
   "metadata": {},
   "outputs": [
    {
     "name": "stdout",
     "output_type": "stream",
     "text": [
      "Testing score for Linear Regression: 0.0356092999272416\n"
     ]
    }
   ],
   "source": [
    "test_score_lr = lr.score(X_test_scaled, y_test)\n",
    "print(\"Testing score for Linear Regression:\", test_score_lr)"
   ]
  },
  {
   "cell_type": "code",
   "execution_count": 53,
   "metadata": {},
   "outputs": [
    {
     "name": "stdout",
     "output_type": "stream",
     "text": [
      "Testing score for Linear Regression: 0.19011389682789237\n"
     ]
    }
   ],
   "source": [
    "test_score_dtr = dtr.score(X_test_scaled, y_test)\n",
    "print(\"Testing score for Decision Tree:\", test_score_dtr)"
   ]
  },
  {
   "cell_type": "code",
   "execution_count": 61,
   "metadata": {},
   "outputs": [
    {
     "name": "stdout",
     "output_type": "stream",
     "text": [
      "Testing score for K Nearest Neighbours: -0.25821727539450334\n"
     ]
    }
   ],
   "source": [
    "test_score_knn = knn.score(X_test_scaled[:20000], y_test[:20000])\n",
    "print(\"Testing score for K Nearest Neighbours:\", test_score_knn)\n",
    "\n",
    "# i'm getting a low value of score since i have used less number of samples for training the model"
   ]
  },
  {
   "cell_type": "code",
   "execution_count": 62,
   "metadata": {},
   "outputs": [
    {
     "data": {
      "image/png": "[encoded data removed]",
      "text/plain": [
       "<Figure size 640x480 with 1 Axes>"
      ]
     },
     "metadata": {},
     "output_type": "display_data"
    }
   ],
   "source": [
    "# plotting the bar plot for the test scores\n",
    "\n",
    "models = ['linear_regression', 'decision_tree', 'K neighbours']\n",
    "test_scores = [test_score_lr, test_score_dtr, test_score_knn]\n",
    " \n",
    "plt.bar(models, test_scores)\n",
    "plt.title('test Scores of the Models')\n",
    "plt.xlabel('Models')\n",
    "plt.ylabel('test Score')\n",
    "plt.show()"
   ]
  },
  {
   "cell_type": "code",
   "execution_count": null,
   "metadata": {},
   "outputs": [],
   "source": [
    "# the metrics that i have used to evalute the models are 'mean squared error', 'root mean squared error', \n",
    "# 'mean absolute error' and 'R squared'\n",
    "# 'root mean squared error' and 'mean absolute error' are the most suitable evaluation metrics for regression problems\n",
    "# MAE measures the average absolute difference between the predicted and actual values, \n",
    "# and unlike RMSE, it is not sensitive to outliers\n",
    "# RMSE is also preferred in practice as it puts a higher weight on large errors,\n",
    "# which can be more important in some applications"
   ]
  }
 ],
 "metadata": {
  "colab": {
   "provenance": []
  },
  "gpuClass": "standard",
  "kernelspec": {
   "display_name": "Python 3 (ipykernel)",
   "language": "python",
   "name": "python3"
  },
  "language_info": {
   "codemirror_mode": {
    "name": "ipython",
    "version": 3
   },
   "file_extension": ".py",
   "mimetype": "text/x-python",
   "name": "python",
   "nbconvert_exporter": "python",
   "pygments_lexer": "ipython3",
   "version": "3.9.13"
  }
 },
 "nbformat": 4,
 "nbformat_minor": 1
}
